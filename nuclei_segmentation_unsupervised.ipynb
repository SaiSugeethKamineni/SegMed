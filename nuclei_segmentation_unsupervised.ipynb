{
 "cells": [
  {
   "cell_type": "markdown",
   "metadata": {},
   "source": [
    "### Import Libraries"
   ]
  },
  {
   "cell_type": "code",
   "execution_count": 1,
   "metadata": {},
   "outputs": [],
   "source": [
    "import os\n",
    "import cv2\n",
    "import numpy as np\n",
    "import histomicstk as htk\n",
    "import scipy as sp\n",
    "import skimage.io\n",
    "import skimage.measure\n",
    "import skimage.color\n",
    "import matplotlib.pyplot as plt\n",
    "import matplotlib.patches as mpatches\n",
    "from PIL import Image\n",
    "import time\n",
    "\n",
    "from glob import glob\n",
    "from os.path import expanduser, join, basename\n",
    "\n",
    "plt.rcParams['image.cmap'] = 'gray'"
   ]
  },
  {
   "cell_type": "code",
   "execution_count": 2,
   "metadata": {},
   "outputs": [],
   "source": [
    "# Reading in color default. Change to zero for grayscale\n",
    "def read_image(filename,mode=1):\n",
    "    try:\n",
    "        img = cv2.imread(filename,mode)\n",
    "    except e:\n",
    "        raise e\n",
    "    if img is None:\n",
    "        print('Check your path. Not a file path. Probably a folder path.')\n",
    "    return img\n",
    "\n",
    "def write_image(filename,img):\n",
    "    try:\n",
    "        cv2.imwrite(filename,img)\n",
    "    except e:\n",
    "        raise e\n",
    "        \n",
    "def image_check(image_name):\n",
    "    if image_name.split('.')[-1] not in ['jpg','jpeg','png']:\n",
    "        return False\n",
    "    return True\n",
    "    \n",
    "def cal_iou(img1, img2):\n",
    "    intersection = np.sum(img1*img2)\n",
    "    union = np.sum(img1 + img2) - intersection\n",
    "    \n",
    "    return intersection/union"
   ]
  },
  {
   "cell_type": "markdown",
   "metadata": {},
   "source": [
    "### Main segmentation function"
   ]
  },
  {
   "cell_type": "code",
   "execution_count": 15,
   "metadata": {},
   "outputs": [],
   "source": [
    "#Segmentation implementations used from Used some implementations from \n",
    "#https://github.com/DigitalSlideArchive/HistomicsTK\n",
    "\n",
    "def segment(image_path, ref_path, output_path, gt_path):\n",
    "    \n",
    "    #Constants:\n",
    "    foreground_threshold = 180\n",
    "    min_radius = 5\n",
    "    max_radius = 100\n",
    "    min_nucleus_area = 150\n",
    "    \n",
    "    #reading images\n",
    "    imInput = skimage.io.imread(image_path)[:, :, :3]\n",
    "    imReference = skimage.io.imread(ref_path)[:, :, :3]\n",
    "    gt = skimage.io.imread(gt_path) #[:,:,0]\n",
    "\n",
    "    # Get the mean and standard deviation of reference image in LAB colorspace\n",
    "    meanRef, stdRef = htk.preprocessing.color_conversion.lab_mean_std(imReference)\n",
    "\n",
    "    # Perform Reinhard Color Normalization on Input Image\n",
    "    imNmzd = htk.preprocessing.color_normalization.reinhard(imInput,meanRef,stdRef)\n",
    "\n",
    "    # Macenko PCA to get the stain vectors \n",
    "    I_0 = 255\n",
    "    w_est = htk.preprocessing.color_deconvolution.rgb_separate_stains_macenko_pca(imNmzd,I_0=255)\n",
    "\n",
    "    # Perform the deconvolution using the stain vectors\n",
    "    deconv_result = htk.preprocessing.color_deconvolution.color_deconvolution(imInput, w_est,I_0)\n",
    "\n",
    "    #stains = ['hematoxylin','eosin','null']\n",
    "    #In this case we are taking eosin, that is why 1, else 0 in next line\n",
    "    imNucleiStain = deconv_result.Stains[:,:,1]\n",
    "\n",
    "    # Now we do segmentation based on a fixed intensity value.\n",
    "    imFgndMask = sp.ndimage.morphology.binary_fill_holes(imNucleiStain<foreground_threshold)\n",
    "\n",
    "    imLog = htk.filters.shape.clog(imNucleiStain, imFgndMask,\\\n",
    "                                   sigma_min=min_radius * np.sqrt(2),\\\n",
    "                                   sigma_max=max_radius * np.sqrt(2))\n",
    "\n",
    "    # detect and segment nuclei using local maximum clustering\n",
    "    local_max_search_radius = 10\n",
    "    imNucleiSegMask1, Seeds, Max = htk.segmentation.nuclear.max_clustering(imLog[0], imFgndMask, local_max_search_radius)\n",
    "\n",
    "    # filter out small objects\n",
    "    imNucleiSegMask = htk.segmentation.label.area_open(imNucleiSegMask1, min_nucleus_area).astype(np.int)\n",
    "\n",
    "    imNucleicompact = htk.segmentation.label.compact(imNucleiSegMask, compaction=3)\n",
    "    k= (imNucleicompact==-1)\n",
    "    imNucleicompact1=np.copy(k)\n",
    "    \n",
    "    for ii in range(0,imNucleicompact.shape[0]):\n",
    "        for jj in range(0,imNucleicompact.shape[1]):\n",
    "            if imNucleicompact[ii,jj]>0:\n",
    "                imNucleicompact1[ii,jj]=1\n",
    "\n",
    "    imNucleicompact2 = skimage.measure.label(imNucleicompact1,connectivity = 1)\n",
    "\n",
    "    mask_generated = np.copy(imNucleicompact2)\n",
    "    mask_generated[mask_generated>0] = 1\n",
    "    gt[gt>0] = 1\n",
    "\n",
    "    iou_cal = cal_iou(gt, mask_generated)\n",
    "    \n",
    "    mask_generated[mask_generated>0] = 255\n",
    "    cv2.imwrite(os.path.join(output_path , image_path.split('/')[-1]), mask_generated)\n",
    "    \n",
    "    return iou_cal"
   ]
  },
  {
   "cell_type": "markdown",
   "metadata": {},
   "source": [
    "### Test run for one image"
   ]
  },
  {
   "cell_type": "code",
   "execution_count": 4,
   "metadata": {},
   "outputs": [
    {
     "name": "stderr",
     "output_type": "stream",
     "text": [
      "/home/satya/Vijay/histomics/HistomicsTK/histomicstk/preprocessing/color_conversion/rgb_to_sda.py:48: RuntimeWarning: divide by zero encountered in log\n",
      "  im_sda = -np.log(im_rgb/(1.*I_0)) * 255/np.log(I_0)\n"
     ]
    },
    {
     "name": "stdout",
     "output_type": "stream",
     "text": [
      "0.6879188144329897\n"
     ]
    }
   ],
   "source": [
    "image_path = \"Input_Images/01_1.png\"\n",
    "ref_path = \"BM_GRAZ_HE_0007_01.png\"\n",
    "output_path = \"Output_Images/\"\n",
    "gt_path = \"Ground_Truth/01_1.png\"\n",
    "\n",
    "iou = segment(image_path, ref_path, output_path, gt_path)\n",
    "\n",
    "print(iou)"
   ]
  },
  {
   "cell_type": "markdown",
   "metadata": {},
   "source": [
    "### Main Run"
   ]
  },
  {
   "cell_type": "code",
   "execution_count": 43,
   "metadata": {},
   "outputs": [
    {
     "name": "stdout",
     "output_type": "stream",
     "text": [
      "Processing datasets/MonuSeg/test/image/1_sample.png & datasets/MonuSeg/test/gt/1_gt.bmp\n",
      "IOU: 0.3552667545707137\n",
      "Processing datasets/MonuSeg/test/image/2_sample.png & datasets/MonuSeg/test/gt/2_gt.bmp\n",
      "IOU: 0.28150151714679617\n",
      "Processing datasets/MonuSeg/test/image/3_sample.png & datasets/MonuSeg/test/gt/3_gt.bmp\n",
      "IOU: 0.16745971042047778\n",
      "Processing datasets/MonuSeg/test/image/4_sample.png & datasets/MonuSeg/test/gt/4_gt.bmp\n",
      "IOU: 0.3461684936578349\n",
      "Processing datasets/MonuSeg/test/image/5_sample.png & datasets/MonuSeg/test/gt/5_gt.bmp\n",
      "IOU: 0.3944261379615527\n",
      "Processing datasets/MonuSeg/test/image/6_sample.png & datasets/MonuSeg/test/gt/6_gt.bmp\n",
      "IOU: 0.42685908979291154\n",
      "Processing datasets/MonuSeg/test/image/7_sample.png & datasets/MonuSeg/test/gt/7_gt.bmp\n",
      "IOU: 0.3407400163745294\n",
      "Processing datasets/MonuSeg/test/image/8_sample.png & datasets/MonuSeg/test/gt/8_gt.bmp\n",
      "IOU: 0.2366614641153683\n",
      "Processing datasets/MonuSeg/test/image/9_sample.png & datasets/MonuSeg/test/gt/9_gt.bmp\n",
      "IOU: 0.5315435025518679\n",
      "Processing datasets/MonuSeg/test/image/10_sample.png & datasets/MonuSeg/test/gt/10_gt.bmp\n",
      "IOU: 0.4755671543646227\n",
      "Processing datasets/MonuSeg/test/image/11_sample.png & datasets/MonuSeg/test/gt/11_gt.bmp\n",
      "IOU: 0.487904961639653\n",
      "Processing datasets/MonuSeg/test/image/12_sample.png & datasets/MonuSeg/test/gt/12_gt.bmp\n",
      "IOU: 0.40118987625569713\n",
      "Processing datasets/MonuSeg/test/image/13_sample.png & datasets/MonuSeg/test/gt/13_gt.bmp\n",
      "IOU: 0.3020312018510104\n",
      "Processing datasets/MonuSeg/test/image/14_sample.png & datasets/MonuSeg/test/gt/14_gt.bmp\n",
      "IOU: 0.5984514631312772\n",
      "Completed processing all images\n",
      "----------Total Time Taken: 35.83989847501119 minutes-----------\n"
     ]
    }
   ],
   "source": [
    "iou_list = []\n",
    "ref_path = \"BM_GRAZ_HE_0007_01.png\"\n",
    "\n",
    "#For TNBC\n",
    "# input_dir = \"Input_Images\"\n",
    "# gt_dir = \"Ground_Truth\"\n",
    "# inputs = glob(join(input_dir, '*.png'))\n",
    "# gts = glob(join(gt_dir, '*.png'))\n",
    "\n",
    "\n",
    "#For PSB\n",
    "# input_dir = \"test/image/\"\n",
    "# gt_dir = \"test/gt/\"\n",
    "# inputs = glob(join(input_dir, '*.tiff'))\n",
    "# inputs = sorted(inputs, key=lambda x: int(x.split('_')[0].split('/')[-1]))\n",
    "\n",
    "# gts = glob(join(gt_dir, '*.bmp'))\n",
    "# gts = sorted(gts, key=lambda x: int(x.split('_')[0].split('/')[-1]))\n",
    "\n",
    "#For MoNuSeg\n",
    "input_dir = \"datasets/MonuSeg/test/image/\"\n",
    "gt_dir = \"datasets/MonuSeg/test/gt/\"\n",
    "inputs = glob(join(input_dir, '*.png'))\n",
    "inputs = sorted(inputs, key=lambda x: int(x.split('_')[0].split('/')[-1]))\n",
    "\n",
    "gts = glob(join(gt_dir, '*.bmp'))\n",
    "gts = sorted(gts, key=lambda x: int(x.split('_')[0].split('/')[-1]))\n",
    "\n",
    "output_dir = \"Output_Images/MoNuSeg_test_images\"\n",
    "\n",
    "start_time = time.time()\n",
    "if len(inputs) == len(gts):\n",
    "    for i in range(len(inputs)):\n",
    "        print(\"Processing {} & {}\".format(inputs[i], gts[i]))\n",
    "        iou = segment(inputs[i], ref_path, output_dir, gts[i])\n",
    "        iou_list.append(iou)\n",
    "        print(\"IOU: {}\".format(iou))\n",
    "    print(\"Completed processing all images\")    \n",
    "\n",
    "print(\"----------Total Time Taken: {} minutes-----------\".format((time.time()-start_time)/60))"
   ]
  },
  {
   "cell_type": "markdown",
   "metadata": {},
   "source": [
    "### Mean IOU for all the set of images run"
   ]
  },
  {
   "cell_type": "code",
   "execution_count": 41,
   "metadata": {},
   "outputs": [
    {
     "data": {
      "text/plain": [
       "0.4811175207361467"
      ]
     },
     "execution_count": 41,
     "metadata": {},
     "output_type": "execute_result"
    }
   ],
   "source": [
    "np.mean(np.array(iou_list))"
   ]
  },
  {
   "cell_type": "markdown",
   "metadata": {},
   "source": [
    "### Number of images run for"
   ]
  },
  {
   "cell_type": "code",
   "execution_count": 42,
   "metadata": {},
   "outputs": [
    {
     "data": {
      "text/plain": [
       "30"
      ]
     },
     "execution_count": 42,
     "metadata": {},
     "output_type": "execute_result"
    }
   ],
   "source": [
    "len(iou_list)"
   ]
  }
 ],
 "metadata": {
  "kernelspec": {
   "display_name": "Python 3",
   "language": "python",
   "name": "python3"
  },
  "language_info": {
   "codemirror_mode": {
    "name": "ipython",
    "version": 3
   },
   "file_extension": ".py",
   "mimetype": "text/x-python",
   "name": "python",
   "nbconvert_exporter": "python",
   "pygments_lexer": "ipython3",
   "version": "3.7.6"
  }
 },
 "nbformat": 4,
 "nbformat_minor": 4
}
